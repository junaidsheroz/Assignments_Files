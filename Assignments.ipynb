{
 "cells": [
  {
   "cell_type": "code",
   "execution_count": 13,
   "id": "8c787920",
   "metadata": {},
   "outputs": [],
   "source": [
    "\n",
    "# class \n",
    "# constructor  __init__\n",
    "# refering is done through self.\n",
    "# object \n"
   ]
  },
  {
   "cell_type": "code",
   "execution_count": 22,
   "id": "29fa2fc4",
   "metadata": {},
   "outputs": [],
   "source": [
    "def fu(a,b=8):\n",
    "    return a+b"
   ]
  },
  {
   "cell_type": "code",
   "execution_count": 23,
   "id": "277efc11",
   "metadata": {},
   "outputs": [
    {
     "data": {
      "text/plain": [
       "88"
      ]
     },
     "execution_count": 23,
     "metadata": {},
     "output_type": "execute_result"
    }
   ],
   "source": [
    "fu(80,8)"
   ]
  },
  {
   "cell_type": "code",
   "execution_count": 2,
   "id": "56ede6bb",
   "metadata": {},
   "outputs": [],
   "source": [
    "class Student:\n",
    "    def __init__(self,name,rollNo,grades):\n",
    "        self.name = name\n",
    "        self.rollNo = rollNo\n",
    "        self.grades = grades\n",
    "        \n",
    "    def getName(self):\n",
    "        return self.name\n",
    "    \n",
    "    def setRollNo(self,New):\n",
    "        self.rollNo = New\n",
    "    \n",
    "    def getRollNo(self):\n",
    "        return self.rollNo\n",
    "\n",
    "    \n",
    "# subclass\n",
    "\n",
    "class Grades(Student):\n",
    "    "
   ]
  },
  {
   "cell_type": "code",
   "execution_count": 3,
   "id": "55d80f33",
   "metadata": {},
   "outputs": [],
   "source": [
    "# initialize the class\n",
    "student1 = Student('Rahman',23,'A')"
   ]
  },
  {
   "cell_type": "code",
   "execution_count": 4,
   "id": "9eca8ee5",
   "metadata": {},
   "outputs": [
    {
     "data": {
      "text/plain": [
       "'Rahman'"
      ]
     },
     "execution_count": 4,
     "metadata": {},
     "output_type": "execute_result"
    }
   ],
   "source": [
    "student1.getName()"
   ]
  },
  {
   "cell_type": "code",
   "execution_count": 5,
   "id": "fce47de9",
   "metadata": {},
   "outputs": [
    {
     "data": {
      "text/plain": [
       "23"
      ]
     },
     "execution_count": 5,
     "metadata": {},
     "output_type": "execute_result"
    }
   ],
   "source": [
    "student1.getRollNo()"
   ]
  },
  {
   "cell_type": "code",
   "execution_count": 6,
   "id": "ccaf4b4a",
   "metadata": {},
   "outputs": [],
   "source": [
    "# setting new roll no\n",
    "student1.setRollNo(3434)"
   ]
  },
  {
   "cell_type": "code",
   "execution_count": 7,
   "id": "fdf10906",
   "metadata": {},
   "outputs": [
    {
     "data": {
      "text/plain": [
       "3434"
      ]
     },
     "execution_count": 7,
     "metadata": {},
     "output_type": "execute_result"
    }
   ],
   "source": [
    "# getting new rollno\n",
    "student1.getRollNo()"
   ]
  },
  {
   "cell_type": "code",
   "execution_count": null,
   "id": "11917ed4",
   "metadata": {},
   "outputs": [],
   "source": []
  },
  {
   "cell_type": "code",
   "execution_count": null,
   "id": "0c275152",
   "metadata": {},
   "outputs": [],
   "source": [
    "# Getter Method --> Get \n",
    "# Setter Method -->Set"
   ]
  },
  {
   "cell_type": "code",
   "execution_count": null,
   "id": "865109b6",
   "metadata": {},
   "outputs": [],
   "source": [
    "def welcome():\n",
    "    print(\"Welcome to the program\")\n",
    "\n",
    "class Demographics:\n",
    "    def __init__(self, Id, Age, Gender,In_state=None):\n",
    "        self.Id = Id\n",
    "        self.Age = Age\n",
    "        self.Gender= Gender\n",
    "        self.In_state = input('Are you in state? (Yes/No): ')\n",
    "    \n",
    "    def calculate_fee(self):\n",
    "        if self.In_state == 'Yes':\n",
    "            self.fees =560\n",
    "            return self.fees\n",
    "        else:\n",
    "            self.fees = 913\n",
    "            return self.fees\n",
    "\n",
    "class Grade:\n",
    "    def __init__(self, Maths, Sci, Eng):\n",
    "        self.Maths = Maths\n",
    "        self.Sci = Sci\n",
    "        self.Eng = Eng\n",
    "\n",
    "    def calculate_grades(self):\n",
    "        self.total = self.Maths + self.Sci + self.Eng\n",
    "        self.average = self.total/3\n",
    "        if self.average >= 90:\n",
    "            self.grade = 'A'\n",
    "        elif self.average >= 80:\n",
    "            self.grade = 'B'\n",
    "        elif self.average >= 70:\n",
    "            self.grade = 'C'\n",
    "        elif self.average >= 70:\n",
    "            self.grade = 'F'\n",
    "        return self.grade\n",
    "\n",
    "class final(Demographics, Grade):\n",
    "    # Use all attributes and generate the student’s transcript. (Print all values)\n",
    "    welcome()\n",
    "    def __init__(self, Id, Age,Gender, Maths, Sci, Eng):\n",
    "        Demographics.__init__(self,Id,Age,Gender)\n",
    "        Grade.__init__(self,Maths,Sci,Eng)\n",
    "        self.Id = Id\n",
    "        self.Age = Age\n",
    "        self.Gender = Gender\n",
    "        self.Maths = Maths\n",
    "        self.Sci = Sci\n",
    "        self.Eng = Eng\n",
    "        self.fees = Demographics.calculate_fee(self)\n",
    "        self.total = Grade.calculate_grades(self)\n",
    "    \n",
    "    def transcript(self):\n",
    "        print(\"Student ID: \", self.Id)\n",
    "        print(\"Student Age: \", self.Age)\n",
    "        print('Student Gender', self.Gender)\n",
    "        print('In state: ', self.In_state)\n",
    "        print(\"Maths: \", self.Maths)\n",
    "        print(\"Science: \", self.Sci)\n",
    "        print(\"English: \", self.Eng)\n",
    "        print('Fees: ',self.fees)\n",
    "        print(\"Grades: \", self.total)\n"
   ]
  },
  {
   "cell_type": "code",
   "execution_count": 10,
   "id": "b3505bb0",
   "metadata": {},
   "outputs": [
    {
     "name": "stdout",
     "output_type": "stream",
     "text": [
      "Are you in state? (Yes/No): \n"
     ]
    },
    {
     "data": {
      "text/plain": [
       "913"
      ]
     },
     "execution_count": 10,
     "metadata": {},
     "output_type": "execute_result"
    }
   ],
   "source": [
    "obj = Demographics(1,20,'Male')\n",
    "obj.calculate_fee()"
   ]
  },
  {
   "cell_type": "code",
   "execution_count": null,
   "id": "3999414f",
   "metadata": {},
   "outputs": [],
   "source": [
    "jj = final(1,20,'Male',90,80,80)"
   ]
  },
  {
   "cell_type": "code",
   "execution_count": 13,
   "id": "d24dff90",
   "metadata": {},
   "outputs": [
    {
     "name": "stdout",
     "output_type": "stream",
     "text": [
      "Student ID:  1\n",
      "Student Age:  20\n",
      "Student Gender Male\n",
      "In state:  No\n",
      "Maths:  90\n",
      "Science:  80\n",
      "English:  80\n",
      "Total:  B\n"
     ]
    }
   ],
   "source": [
    "jj.transcript()"
   ]
  },
  {
   "cell_type": "code",
   "execution_count": 15,
   "id": "1fd274b7",
   "metadata": {},
   "outputs": [
    {
     "name": "stdout",
     "output_type": "stream",
     "text": [
      "9\n",
      "16\n"
     ]
    }
   ],
   "source": [
    "# Question4:  Get the following output [point 5] – Everything using a loop.\n",
    "# 1 ----- 9\n",
    "# 2 ----- 28\n",
    "# 3 ----- 65\n",
    "# 4 ----- 126\n",
    "# 1 ----- 9\n",
    "\n",
    "# solution\n",
    "i = 3\n",
    "while i<5:\n",
    "    print(i**2)\n",
    "    (i+2)**2+3\n",
    "    i=i+1"
   ]
  },
  {
   "cell_type": "code",
   "execution_count": 6,
   "id": "55a5eea4",
   "metadata": {},
   "outputs": [
    {
     "data": {
      "text/plain": [
       "'hehlo'"
      ]
     },
     "execution_count": 6,
     "metadata": {},
     "output_type": "execute_result"
    }
   ],
   "source": [
    "string = \"hello\"\n",
    "string.replace('l','h',1)\n"
   ]
  },
  {
   "cell_type": "code",
   "execution_count": 4,
   "id": "8a5004d1",
   "metadata": {},
   "outputs": [
    {
     "name": "stdout",
     "output_type": "stream",
     "text": [
      "<re.Match object; span=(86, 91), match='every'>\n"
     ]
    }
   ],
   "source": [
    "# Q1\n",
    "# Assign this string to a variable using functions\n",
    "import re\n",
    "\n",
    "string = \"This is a BINF 5403 class – Fall 2021. It is a programming class. It is scheduled for every Tuesday- 12pm to 3 pm.\"\n",
    "# 1) find the length of the string\n",
    "# Solution\n",
    "def length(string):\n",
    "    return len(string)\n",
    "\n",
    "def length2(string):\n",
    "    count = 0\n",
    "    for i in string:\n",
    "        count += 1\n",
    "    return count\n",
    "\n",
    "# 2) find the position of second \"e\" in \"every\" in the string\n",
    "def find_second_e(string):\n",
    "    return string.find(\"e\", string.find(\"e\")+1)\n",
    "\n",
    "\n",
    "print(re.search('every', string))\n",
    "\n",
    "\n",
    "# # Solution\n",
    "# def position(string):\n",
    "#     return string.index(\"e\")\n",
    "\n",
    "# print(position(string))"
   ]
  },
  {
   "cell_type": "code",
   "execution_count": null,
   "id": "575d07d9",
   "metadata": {},
   "outputs": [],
   "source": []
  },
  {
   "cell_type": "code",
   "execution_count": null,
   "id": "a875608a",
   "metadata": {},
   "outputs": [],
   "source": []
  },
  {
   "cell_type": "code",
   "execution_count": null,
   "id": "f44498bd",
   "metadata": {},
   "outputs": [],
   "source": []
  },
  {
   "cell_type": "code",
   "execution_count": null,
   "id": "855b3497",
   "metadata": {},
   "outputs": [],
   "source": []
  },
  {
   "cell_type": "code",
   "execution_count": 1,
   "id": "4b9541cd",
   "metadata": {},
   "outputs": [],
   "source": [
    "import pandas as pd"
   ]
  },
  {
   "cell_type": "code",
   "execution_count": 3,
   "id": "31edb21b",
   "metadata": {},
   "outputs": [
    {
     "name": "stderr",
     "output_type": "stream",
     "text": [
      "/var/folders/7m/1j8qtjnn0wb3r5r8h2nsyphr0000gn/T/ipykernel_5289/4250274297.py:1: DtypeWarning: Columns (4) have mixed types. Specify dtype option on import or set low_memory=False.\n",
      "  data = pd.read_csv(\"/Users/abdulbasithfarooqui/Downloads/Age-sex-by-ethnic-group-grouped-total-responses-census-usually-resident-population-counts-2006-2013-2018-Censuses-RC-TA-SA2-DHB/Data8277.csv\")\n"
     ]
    }
   ],
   "source": [
    "data = pd.read_csv(\"/Users/abdulbasithfarooqui/Downloads/Age-sex-by-ethnic-group-grouped-total-responses-census-usually-resident-population-counts-2006-2013-2018-Censuses-RC-TA-SA2-DHB/Data8277.csv\")"
   ]
  },
  {
   "cell_type": "code",
   "execution_count": 4,
   "id": "0312b438",
   "metadata": {},
   "outputs": [
    {
     "name": "stdout",
     "output_type": "stream",
     "text": [
      "Year\n",
      "Age\n",
      "Ethnic\n",
      "Sex\n",
      "Area\n",
      "count\n"
     ]
    }
   ],
   "source": [
    "for i in data:\n",
    "    print(i)"
   ]
  },
  {
   "cell_type": "code",
   "execution_count": 1,
   "id": "5a127fee",
   "metadata": {
    "scrolled": true
   },
   "outputs": [
    {
     "name": "stdout",
     "output_type": "stream",
     "text": [
      "Requirement already satisfied: pytest in /Users/abdulbasithfarooqui/opt/anaconda3/lib/python3.9/site-packages (7.1.1)\n",
      "Requirement already satisfied: attrs>=19.2.0 in /Users/abdulbasithfarooqui/opt/anaconda3/lib/python3.9/site-packages (from pytest) (21.4.0)\n",
      "Requirement already satisfied: iniconfig in /Users/abdulbasithfarooqui/opt/anaconda3/lib/python3.9/site-packages (from pytest) (1.1.1)\n",
      "Requirement already satisfied: packaging in /Users/abdulbasithfarooqui/opt/anaconda3/lib/python3.9/site-packages (from pytest) (21.3)\n",
      "Requirement already satisfied: pluggy<2.0,>=0.12 in /Users/abdulbasithfarooqui/opt/anaconda3/lib/python3.9/site-packages (from pytest) (1.0.0)\n",
      "Requirement already satisfied: py>=1.8.2 in /Users/abdulbasithfarooqui/opt/anaconda3/lib/python3.9/site-packages (from pytest) (1.11.0)\n",
      "Requirement already satisfied: tomli>=1.0.0 in /Users/abdulbasithfarooqui/opt/anaconda3/lib/python3.9/site-packages (from pytest) (1.2.2)\n",
      "Requirement already satisfied: pyparsing!=3.0.5,>=2.0.2 in /Users/abdulbasithfarooqui/opt/anaconda3/lib/python3.9/site-packages (from packaging->pytest) (3.0.4)\n",
      "Note: you may need to restart the kernel to use updated packages.\n"
     ]
    }
   ],
   "source": [
    "pip install pytest"
   ]
  },
  {
   "cell_type": "code",
   "execution_count": null,
   "id": "689fff6d",
   "metadata": {},
   "outputs": [],
   "source": [
    "list1 = [1,2,3,4,5,6,7]\n",
    "list2 =[]\n",
    "while True:\n",
    "    if len(list1)==1:        \n",
    "        list2.append(list1[0])\n",
    "#         list1.pop(list1[0])\n",
    "    else:\n",
    "        mid_index = (len(list1)//2)\n",
    "        mid = list1[len(list1)//2]\n",
    "        left_list =list1[0:len(list1)//2]\n",
    "        right_list=list1[mid+1:-1]\n",
    "        list2.append(mid)\n",
    "        list1 = left_list\n",
    "print(list2)"
   ]
  },
  {
   "cell_type": "code",
   "execution_count": null,
   "id": "2e6ddde9",
   "metadata": {},
   "outputs": [],
   "source": [
    "for i in list1:\n",
    "    mid_index = (len(list1)//2)+1\n",
    "    mid = list1[len(list1)//2+1]\n",
    "    left_list =list1[0:len(list1)//2+1]\n",
    "    right_list=list1[mid+1:-1]\n",
    "    list2.append(mid)\n",
    "    list1 = left_list\n",
    "print(list2)"
   ]
  },
  {
   "cell_type": "code",
   "execution_count": 25,
   "id": "0d23cfaf",
   "metadata": {},
   "outputs": [
    {
     "name": "stdout",
     "output_type": "stream",
     "text": [
      "Enter the number n:\n",
      "4\n",
      "The total is  8.7\n"
     ]
    }
   ],
   "source": [
    "# defining the function\n",
    "def loop():\n",
    "    n= int(input('Enter the number n:\\n'))\n",
    "    A = 1\n",
    "    B=n+1\n",
    "    result = 0\n",
    "    while A <= n+1:\n",
    "        result += (A / B)\n",
    "        A += 1\n",
    "        B -= 1\n",
    "    print('The total is ', result)\n",
    "\n",
    "# calling the function\n",
    "loop()"
   ]
  },
  {
   "cell_type": "code",
   "execution_count": 27,
   "id": "a77664d2",
   "metadata": {},
   "outputs": [
    {
     "name": "stdout",
     "output_type": "stream",
     "text": [
      "        *\n",
      "        *\n",
      "        *\n",
      "        *\n",
      "        *\n",
      "        *\n",
      "        *\n",
      "        *\n"
     ]
    }
   ],
   "source": [
    "for i in range(8):\n",
    "    print(\"        {}\".format(\"*\"))"
   ]
  },
  {
   "cell_type": "code",
   "execution_count": 38,
   "id": "13410d4b",
   "metadata": {},
   "outputs": [
    {
     "name": "stdout",
     "output_type": "stream",
     "text": [
      "Enter the number n:\n",
      "8\n",
      "        *\n",
      "       *\n",
      "      *\n",
      "     *\n",
      "    *\n",
      "   *\n",
      "  *\n",
      " *\n",
      "*\n"
     ]
    }
   ],
   "source": [
    "n = int(input('Enter the number n:\\n'))\n",
    "for i in range(n + 1):\n",
    "    space = n - i\n",
    "    print(f\"{' ' * space}*\")"
   ]
  },
  {
   "cell_type": "code",
   "execution_count": null,
   "id": "bef29e5a",
   "metadata": {},
   "outputs": [],
   "source": []
  }
 ],
 "metadata": {
  "kernelspec": {
   "display_name": "Python 3 (ipykernel)",
   "language": "python",
   "name": "python3"
  },
  "language_info": {
   "codemirror_mode": {
    "name": "ipython",
    "version": 3
   },
   "file_extension": ".py",
   "mimetype": "text/x-python",
   "name": "python",
   "nbconvert_exporter": "python",
   "pygments_lexer": "ipython3",
   "version": "3.9.12"
  }
 },
 "nbformat": 4,
 "nbformat_minor": 5
}
